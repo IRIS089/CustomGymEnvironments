{
 "cells": [
  {
   "cell_type": "code",
   "execution_count": 2,
   "metadata": {},
   "outputs": [],
   "source": [
    "import gym\n",
    "from gym import spaces"
   ]
  },
  {
   "cell_type": "code",
   "execution_count": null,
   "metadata": {},
   "outputs": [],
   "source": [
    "'''\n",
    "Each environment must implement the following gym interface\n",
    "\n",
    "class CustomEnv(gym.Env):\n",
    "    metadata = {'render.modes':['human']}\n",
    "    \n",
    "    def __init__(self, arg1, arg2, ...):\n",
    "        super(CustomEnv, self).__init__()\n",
    "        \n",
    "        self.action_space = spaces.Discrete(N_DISCRETE_ACTIONS)\n",
    "        \n",
    "        self.observation_space = spaces.Box(low=0,high=255,shape=(HEIGHT, WIDTH, N_CHANNELS), dype=np.uint8)\n",
    "        \n",
    "    def step(self,action):\n",
    "        pass\n",
    "        \n",
    "    def reset(self):\n",
    "        pass\n",
    "        \n",
    "    def render(self,mode='human',close=False):\n",
    "        pass\n",
    "            \n",
    "'''"
   ]
  },
  {
   "cell_type": "code",
   "execution_count": null,
   "metadata": {},
   "outputs": [],
   "source": [
    "class StockTradingEnvironment(gym.Env):\n",
    "    \n",
    "    metadata = {'render.modes':['human']}\n",
    "    \n",
    "    def __init__(self, df):\n",
    "        super(StockTradingEnv, self).__init__()\n",
    "        self.df = df\n",
    "        sef.reward_range = (0, MAX_ACCOUNT_BALANCE)\n",
    "        \n",
    "        self.action_space = spaces.Box(low=np.array([0,0]), high=np.array([3,1]), dtype=np.float16)\n",
    "        \n",
    "        self.observation_space = spaces.Box(low=0,high=1,shape(6,6),dtype=np.float16)\n",
    "        \n",
    "    def reset(self):\n",
    "        pass\n",
    "    \n",
    "    def step(self,action):\n",
    "        pass\n",
    "    \n",
    "    def render(self,mode='humnan',close=False)\n",
    "    pass"
   ]
  }
 ],
 "metadata": {
  "kernelspec": {
   "display_name": "Python 3",
   "language": "python",
   "name": "python3"
  },
  "language_info": {
   "codemirror_mode": {
    "name": "ipython",
    "version": 3
   },
   "file_extension": ".py",
   "mimetype": "text/x-python",
   "name": "python",
   "nbconvert_exporter": "python",
   "pygments_lexer": "ipython3",
   "version": "3.7.3"
  }
 },
 "nbformat": 4,
 "nbformat_minor": 2
}
